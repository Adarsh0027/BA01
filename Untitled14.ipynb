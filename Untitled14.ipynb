{
  "nbformat": 4,
  "nbformat_minor": 0,
  "metadata": {
    "colab": {
      "provenance": [],
      "authorship_tag": "ABX9TyP5JKIWkxcbNMWkKu70n83N",
      "include_colab_link": true
    },
    "kernelspec": {
      "name": "python3",
      "display_name": "Python 3"
    },
    "language_info": {
      "name": "python"
    }
  },
  "cells": [
    {
      "cell_type": "markdown",
      "metadata": {
        "id": "view-in-github",
        "colab_type": "text"
      },
      "source": [
        "<a href=\"https://colab.research.google.com/github/Adarsh0027/BA01/blob/main/Untitled14.ipynb\" target=\"_parent\"><img src=\"https://colab.research.google.com/assets/colab-badge.svg\" alt=\"Open In Colab\"/></a>"
      ]
    },
    {
      "cell_type": "code",
      "execution_count": 1,
      "metadata": {
        "colab": {
          "base_uri": "https://localhost:8080/"
        },
        "id": "balAGu1BxCD9",
        "outputId": "365d31e3-0d2c-4651-ded9-1de10eb4bd49"
      },
      "outputs": [
        {
          "output_type": "stream",
          "name": "stdout",
          "text": [
            "FIFA WORLD CUP 2022\n"
          ]
        }
      ],
      "source": [
        "def football():\n",
        "  print(\"FIFA WORLD CUP 2022\")\n",
        "football()"
      ]
    },
    {
      "cell_type": "code",
      "source": [
        "def person(x,y,z):\n",
        "  print(x,y,z)\n",
        "person(\"Ashiq\",\"Thomas\",\"Davis\")"
      ],
      "metadata": {
        "colab": {
          "base_uri": "https://localhost:8080/"
        },
        "id": "EKHXgqucxK2T",
        "outputId": "27b253e9-8f22-4539-a386-5fe75371440f"
      },
      "execution_count": 2,
      "outputs": [
        {
          "output_type": "stream",
          "name": "stdout",
          "text": [
            "Ashiq Thomas Davis\n"
          ]
        }
      ]
    },
    {
      "cell_type": "code",
      "source": [
        "def person(x,y,z):\n",
        "  print(z,x,y)\n",
        "person(\"Ashiq\",\"Thomas\",\"Davis\")"
      ],
      "metadata": {
        "colab": {
          "base_uri": "https://localhost:8080/"
        },
        "id": "Xtnl3VSaygXC",
        "outputId": "55d79623-37f7-4383-fa92-fb60d6c6a160"
      },
      "execution_count": 4,
      "outputs": [
        {
          "output_type": "stream",
          "name": "stdout",
          "text": [
            "Davis Ashiq Thomas\n"
          ]
        }
      ]
    },
    {
      "cell_type": "code",
      "source": [
        "def football(*x):\n",
        "  print(\"Second fav player\",x[1])\n",
        "football(\"MESSI\",\"RONALDO\",\"NEYMARJR\")\n"
      ],
      "metadata": {
        "colab": {
          "base_uri": "https://localhost:8080/"
        },
        "id": "qGqY9WL1ywVB",
        "outputId": "1d62465a-50e0-4cfa-d7c9-43646629c90a"
      },
      "execution_count": 13,
      "outputs": [
        {
          "output_type": "stream",
          "name": "stdout",
          "text": [
            "Second fav player RONALDO\n"
          ]
        }
      ]
    },
    {
      "cell_type": "code",
      "source": [
        "def cnt(country = \"India\"):\n",
        "  print(\"I am from \"+ country)\n",
        "cnt(\"Argentina\")\n",
        "cnt()"
      ],
      "metadata": {
        "colab": {
          "base_uri": "https://localhost:8080/"
        },
        "id": "uSP8d1kozwCt",
        "outputId": "705f451e-761f-4dcf-e328-7d84337ecc68"
      },
      "execution_count": 15,
      "outputs": [
        {
          "output_type": "stream",
          "name": "stdout",
          "text": [
            "I am from Argentina\n",
            "I am from India\n"
          ]
        }
      ]
    },
    {
      "cell_type": "code",
      "source": [
        "./"
      ],
      "metadata": {
        "id": "uSPUm4M51l__"
      },
      "execution_count": null,
      "outputs": []
    }
  ]
}
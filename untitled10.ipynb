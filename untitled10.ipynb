{
  "nbformat": 4,
  "nbformat_minor": 0,
  "metadata": {
    "colab": {
      "provenance": [],
      "authorship_tag": "ABX9TyPbcVzQQ9cjPjeQUcrEnVip",
      "include_colab_link": true
    },
    "kernelspec": {
      "name": "python3",
      "display_name": "Python 3"
    },
    "language_info": {
      "name": "python"
    }
  },
  "cells": [
    {
      "cell_type": "markdown",
      "metadata": {
        "id": "view-in-github",
        "colab_type": "text"
      },
      "source": [
        "<a href=\"https://colab.research.google.com/github/Adarsh0027/BA01/blob/main/untitled10.ipynb\" target=\"_parent\"><img src=\"https://colab.research.google.com/assets/colab-badge.svg\" alt=\"Open In Colab\"/></a>"
      ]
    },
    {
      "cell_type": "code",
      "execution_count": null,
      "metadata": {
        "colab": {
          "base_uri": "https://localhost:8080/"
        },
        "id": "DuYQMPAygAaf",
        "outputId": "b2aec7d6-a0fb-4837-876d-a4e8254c69cb"
      },
      "outputs": [
        {
          "output_type": "stream",
          "name": "stdout",
          "text": [
            "Enter Phone Number 838\n",
            "Enter your name ADarsh\n",
            "838\n",
            "ADarsh\n"
          ]
        }
      ],
      "source": [
        "\n",
        "x=int(input(\"Enter Phone Number \"))\n",
        "y=input(\"Enter your name \")\n",
        "print(x)\n",
        "print(y)\n"
      ]
    },
    {
      "cell_type": "code",
      "source": [
        "x=int(input(\"Enter DBMS Mark \"))\n",
        "y=int(input(\"Enter CRA Mark \"))\n",
        "z=int(input(\"Enter FA Mark  \"))\n",
        "total=x+y+z\n",
        "print(total)\n"
      ],
      "metadata": {
        "colab": {
          "base_uri": "https://localhost:8080/"
        },
        "id": "pKAkGIU9g_o7",
        "outputId": "b8e200c9-8868-4719-d4fa-247d58b8bb61"
      },
      "execution_count": null,
      "outputs": [
        {
          "output_type": "stream",
          "name": "stdout",
          "text": [
            "Enter DBMS Mark 30\n",
            "Enter CRA Mark 30\n",
            "Enter FA Mark  30\n",
            "90\n"
          ]
        }
      ]
    },
    {
      "cell_type": "code",
      "source": [
        "x=int(input(\"Enter DBMS Mark \"))\n",
        "y=int(input(\"Enter CRA Mark \"))\n",
        "z=int(input(\"Enter FA Mark  \"))\n",
        "total=x+y+z\n",
        "print(total)\n",
        "mean=total/3\n",
        "print(\"Mean is \",mean)"
      ],
      "metadata": {
        "id": "kc6qNHMbjNAR",
        "colab": {
          "base_uri": "https://localhost:8080/"
        },
        "outputId": "5101298b-15e9-4122-c601-e45307ccbe4d"
      },
      "execution_count": null,
      "outputs": [
        {
          "output_type": "stream",
          "name": "stdout",
          "text": [
            "Enter DBMS Mark 28\n",
            "Enter CRA Mark 30\n",
            "Enter FA Mark  30\n",
            "88\n",
            "Mean is  29.333333333333332\n"
          ]
        }
      ]
    },
    {
      "cell_type": "code",
      "source": [
        "N1=15\n",
        "N2=11\n",
        "N3=12\n",
        "if N1>N2 and N1>N3:\n",
        "  print(N1,\"is greater\")\n",
        "if N2>N1 and N2>N3:\n",
        "  print(N2,\"is greater\")\n",
        "if N3>N1 and N3>N2:\n",
        "  print(N3,\"is greater\")\n"
      ],
      "metadata": {
        "colab": {
          "base_uri": "https://localhost:8080/"
        },
        "id": "G31MWD77nDxH",
        "outputId": "2eee1b98-4501-4a0d-81f2-2d080e5a3299"
      },
      "execution_count": null,
      "outputs": [
        {
          "output_type": "stream",
          "name": "stdout",
          "text": [
            "15 is greater\n"
          ]
        }
      ]
    },
    {
      "cell_type": "code",
      "source": [
        "x=int(input(\"Enter Any Number \"))\n",
        "if x%2 ==0 :\n",
        "  print(x,\"is even\")\n",
        "else :\n",
        "  print(x,\"is odd\")\n"
      ],
      "metadata": {
        "id": "q3qrnt4-qNyu",
        "colab": {
          "base_uri": "https://localhost:8080/"
        },
        "outputId": "fc972631-fa40-4ca0-b662-ff9e3e73c077"
      },
      "execution_count": null,
      "outputs": [
        {
          "output_type": "stream",
          "name": "stdout",
          "text": [
            "Enter Any Number 6\n",
            "6 is even\n"
          ]
        }
      ]
    },
    {
      "cell_type": "code",
      "source": [
        "y=int(input(\"Enter Any Number \"))\n",
        "if y%2 ==0 :\n",
        "  print(y,\"is even\")\n",
        "else :\n",
        "  print(y,\"is odd\")"
      ],
      "metadata": {
        "colab": {
          "base_uri": "https://localhost:8080/"
        },
        "id": "lMlnq2vKvJNi",
        "outputId": "fd848642-11d4-4946-d980-5b1e64d5c502"
      },
      "execution_count": null,
      "outputs": [
        {
          "output_type": "stream",
          "name": "stdout",
          "text": [
            "Enter Any Number 5\n",
            "5 is odd\n"
          ]
        }
      ]
    },
    {
      "cell_type": "code",
      "source": [
        "x=range(10)\n",
        "for a in x:\n",
        "  if a%2 ==0 :\n",
        "    print(x,\"is even\")\n",
        "  else:\n",
        "    print(x,\"is odd\")\n",
        "  "
      ],
      "metadata": {
        "colab": {
          "base_uri": "https://localhost:8080/"
        },
        "id": "o6p6x6N3vQ-h",
        "outputId": "f0a8e52d-3cd6-4931-bb11-e36f7bb5a4d1"
      },
      "execution_count": null,
      "outputs": [
        {
          "output_type": "stream",
          "name": "stdout",
          "text": [
            "range(0, 10) is even\n",
            "range(0, 10) is odd\n",
            "range(0, 10) is even\n",
            "range(0, 10) is odd\n",
            "range(0, 10) is even\n",
            "range(0, 10) is odd\n",
            "range(0, 10) is even\n",
            "range(0, 10) is odd\n",
            "range(0, 10) is even\n",
            "range(0, 10) is odd\n"
          ]
        }
      ]
    },
    {
      "cell_type": "code",
      "source": [
        "x=int(input(\"Enter Starting Value \"))\n",
        "y=int(input(\"Enter Ending Value \"))\n",
        "z=range(x,y) \n",
        "for a in z:\n",
        "  if a%2 ==0 :\n",
        "    print(a+2,\"is even\")"
      ],
      "metadata": {
        "colab": {
          "base_uri": "https://localhost:8080/"
        },
        "id": "RJEVuw92vxz3",
        "outputId": "de2e7e62-9f63-431a-cb81-286e09dc4d6e"
      },
      "execution_count": null,
      "outputs": [
        {
          "output_type": "stream",
          "name": "stdout",
          "text": [
            "Enter Starting Value 10\n",
            "Enter Ending Value 20\n",
            "12 is even\n",
            "14 is even\n",
            "16 is even\n",
            "18 is even\n",
            "20 is even\n"
          ]
        }
      ]
    },
    {
      "cell_type": "code",
      "source": [
        "x=int(input(\"Enter Starting Value \"))\n",
        "y=int(input(\"Enter Ending Value \"))\n",
        "z=range(x,y) \n",
        "for a in z:\n",
        "  if a%2 ==0 :\n",
        "    print(a+1,\"is odd\")"
      ],
      "metadata": {
        "colab": {
          "base_uri": "https://localhost:8080/"
        },
        "id": "eEr8Aj5uyZtC",
        "outputId": "6c01e26c-7894-45ee-cbed-bd6e0fe9c117"
      },
      "execution_count": null,
      "outputs": [
        {
          "output_type": "stream",
          "name": "stdout",
          "text": [
            "Enter Starting Value 10\n",
            "Enter Ending Value 20\n",
            "11 is odd\n",
            "13 is odd\n",
            "15 is odd\n",
            "17 is odd\n",
            "19 is odd\n"
          ]
        }
      ]
    },
    {
      "cell_type": "code",
      "source": [
        "x=input(\"Enter Travel Source \")\n",
        "y=input(\"Enter Travel Destination \")\n",
        "z=int(input(\"Enter Number of Passengers \"))\n",
        "print(x,y,z)\n"
      ],
      "metadata": {
        "id": "FMztDt530_4O",
        "colab": {
          "base_uri": "https://localhost:8080/"
        },
        "outputId": "90dd3459-90a8-4785-e034-07cdd1a6433c"
      },
      "execution_count": null,
      "outputs": [
        {
          "output_type": "stream",
          "name": "stdout",
          "text": [
            "Enter Travel Source Ernakulam\n",
            "Enter Travel Destinations Palakkad\n",
            "Enter Number of Passengers26\n",
            "Ernakulam Palakkad 26\n"
          ]
        }
      ]
    },
    {
      "cell_type": "code",
      "source": [
        "x=int(input(\"Total ticket fare \"))\n",
        "z=int(input(\"No of Passengers \"))\n",
        "Totalfare=print(x/z)"
      ],
      "metadata": {
        "colab": {
          "base_uri": "https://localhost:8080/"
        },
        "id": "skaeOGrqn1M9",
        "outputId": "c5b03a05-60ea-4a7c-f499-5647276c3b0f"
      },
      "execution_count": null,
      "outputs": [
        {
          "output_type": "stream",
          "name": "stdout",
          "text": [
            "Total ticket fare 500\n",
            "No of Passengers 10\n",
            "50.0\n"
          ]
        }
      ]
    },
    {
      "cell_type": "code",
      "source": [
        "x=input(\"Passengers Name \")\n",
        "y=int(input(\"Ticket fare \"))\n",
        "print(x,y)"
      ],
      "metadata": {
        "colab": {
          "base_uri": "https://localhost:8080/"
        },
        "id": "i0wHAh1Rpny2",
        "outputId": "c82d5284-ee5d-41a4-970a-83a815446a69"
      },
      "execution_count": null,
      "outputs": [
        {
          "output_type": "stream",
          "name": "stdout",
          "text": [
            "Passengers Name George\n",
            "Ticket fare 1200\n",
            "George 1200\n"
          ]
        }
      ]
    },
    {
      "cell_type": "code",
      "source": [
        "x=int(input(\"Total TIcket Fare \"))\n",
        "if x>10000:\n",
        "  print(\"Eligible for discount\")"
      ],
      "metadata": {
        "colab": {
          "base_uri": "https://localhost:8080/"
        },
        "id": "IgZrBoh2p_nY",
        "outputId": "ae68e9eb-7376-44f6-b983-0ebb387b3f14"
      },
      "execution_count": null,
      "outputs": [
        {
          "output_type": "stream",
          "name": "stdout",
          "text": [
            "Total TIcket Fare 12000\n",
            "Eligible for discount\n"
          ]
        }
      ]
    },
    {
      "cell_type": "code",
      "source": [
        "x=int(input(\"Total TIcket Fare \"))\n",
        "if x>15000:\n",
        "  print(\"Eligible for 20% discount\")\n",
        "else:\n",
        "  print(\"Eligible for 10% discount\")\n"
      ],
      "metadata": {
        "colab": {
          "base_uri": "https://localhost:8080/"
        },
        "id": "3kqPEI9osEf4",
        "outputId": "99217bf8-9abe-4516-c6f7-93c36610748a"
      },
      "execution_count": null,
      "outputs": [
        {
          "output_type": "stream",
          "name": "stdout",
          "text": [
            "Total TIcket Fare 14000\n",
            "Eligible for 10% discount\n"
          ]
        }
      ]
    },
    {
      "cell_type": "code",
      "source": [
        "x=int(input(\"Total TIcket Fare \"))\n",
        "if x>15000:\n",
        "  print(\"Eligible for 20% discount\")\n",
        "  print(x*20/100)\n",
        "else:\n",
        "  print(\"Eligible for 10% discount\")\n",
        "  print(x*10/100)"
      ],
      "metadata": {
        "colab": {
          "base_uri": "https://localhost:8080/"
        },
        "id": "BgmaxPhWsj4z",
        "outputId": "71af50ec-b2db-4f17-8636-e111e4b75af0"
      },
      "execution_count": null,
      "outputs": [
        {
          "output_type": "stream",
          "name": "stdout",
          "text": [
            "Total TIcket Fare 14000\n",
            "Eligible for 10% discount\n",
            "1400.0\n"
          ]
        }
      ]
    },
    {
      "cell_type": "code",
      "source": [
        "x=int(input(\"Enter A Number \"))\n",
        "if x>0:\n",
        "  print(\"Positive\")\n",
        "elif x<0:\n",
        "  print(\"Negative\")\n",
        "else:\n",
        "  print(\"Zero\")"
      ],
      "metadata": {
        "colab": {
          "base_uri": "https://localhost:8080/"
        },
        "id": "NkhTT5Rns7pG",
        "outputId": "99e7649c-24e7-4671-a8f9-edefcbd14935"
      },
      "execution_count": null,
      "outputs": [
        {
          "output_type": "stream",
          "name": "stdout",
          "text": [
            "Enter A Number -1\n",
            "Negative\n"
          ]
        }
      ]
    },
    {
      "cell_type": "code",
      "source": [
        "x=int(input(\"Age of Passenger \"))\n",
        "if x>17:\n",
        "  print(\"Adult\")\n",
        "elif x>11 and x<17:\n",
        "  print(\"Teenager\")\n",
        "elif x>5 and x<11:\n",
        "  print(\"Kid\")\n",
        "else:\n",
        "  print(\"Infant\")"
      ],
      "metadata": {
        "colab": {
          "base_uri": "https://localhost:8080/"
        },
        "id": "yGcp7t3RuqRB",
        "outputId": "d4664ff0-373f-49be-be4c-a35618cecbd6"
      },
      "execution_count": null,
      "outputs": [
        {
          "output_type": "stream",
          "name": "stdout",
          "text": [
            "Age of Passenger 10\n",
            "Kid\n"
          ]
        }
      ]
    },
    {
      "cell_type": "code",
      "source": [
        "x=input(\"Passengers Initial \")\n",
        "if x==\"A\":\n",
        "  print(\"Vowel\")\n",
        "elif x==\"E\":\n",
        "  print(\"Vowel\")\n",
        "elif x==\"I\":\n",
        "  print(\"Vowel\")\n",
        "elif x==\"O\":\n",
        "  print(\"Vowel\")\n",
        "elif x==\"U\":\n",
        "  print(\"Vowel\")\n",
        "else:\n",
        "  print(\"Not Vowel\")"
      ],
      "metadata": {
        "colab": {
          "base_uri": "https://localhost:8080/"
        },
        "id": "JRah0_cHwSJi",
        "outputId": "782bcfcd-86e2-4169-b32b-5ac581e92082"
      },
      "execution_count": null,
      "outputs": [
        {
          "output_type": "stream",
          "name": "stdout",
          "text": [
            "Passengers Initial A\n",
            "Vowel\n"
          ]
        }
      ]
    },
    {
      "cell_type": "code",
      "source": [
        "x=input(\"Enter Your Name \")\n",
        "for a in x:\n",
        "  print(a)"
      ],
      "metadata": {
        "colab": {
          "base_uri": "https://localhost:8080/"
        },
        "id": "9GQ0HTQOzh74",
        "outputId": "29dc18d6-8363-4f53-ecf2-80ab07aa380c"
      },
      "execution_count": null,
      "outputs": [
        {
          "output_type": "stream",
          "name": "stdout",
          "text": [
            "Enter Your Name adarsh\n",
            "a\n",
            "d\n",
            "a\n",
            "r\n",
            "s\n",
            "h\n"
          ]
        }
      ]
    },
    {
      "cell_type": "code",
      "source": [
        "x=int(input(\"Enter Starting Value \"))\n",
        "y=int(input(\"Enter Ending Value \"))\n",
        "z=range(x,y) \n",
        "for a in z:\n",
        "  if a%2!=0 :\n",
        "    print(a)\n",
        "    "
      ],
      "metadata": {
        "colab": {
          "base_uri": "https://localhost:8080/"
        },
        "id": "pg6uKtM61SP9",
        "outputId": "8165939f-cc99-4fdd-9da6-4790728fb1d0"
      },
      "execution_count": null,
      "outputs": [
        {
          "output_type": "stream",
          "name": "stdout",
          "text": [
            "Enter Starting Value 44\n",
            "Enter Ending Value 88\n",
            "45\n",
            "47\n",
            "49\n",
            "51\n",
            "53\n",
            "55\n",
            "57\n",
            "59\n",
            "61\n",
            "63\n",
            "65\n",
            "67\n",
            "69\n",
            "71\n",
            "73\n",
            "75\n",
            "77\n",
            "79\n",
            "81\n",
            "83\n",
            "85\n",
            "87\n"
          ]
        }
      ]
    },
    {
      "cell_type": "code",
      "source": [
        "x=int(input(\"Enter Starting Value \"))\n",
        "y=int(input(\"Enter Ending Value \"))\n",
        "z=(x,y) \n",
        "for a in range(x,y):\n",
        "  x=x+a\n",
        "  print(a , x)\n",
        "  "
      ],
      "metadata": {
        "id": "k1Lcc13q3YeK",
        "colab": {
          "base_uri": "https://localhost:8080/"
        },
        "outputId": "f79de5de-9a9d-4f17-dd1b-4e4a7ae67e6e"
      },
      "execution_count": null,
      "outputs": [
        {
          "output_type": "stream",
          "name": "stdout",
          "text": [
            "Enter Starting Value 1\n",
            "Enter Ending Value 6\n",
            "1 2\n",
            "2 4\n",
            "3 7\n",
            "4 11\n",
            "5 16\n"
          ]
        }
      ]
    },
    {
      "cell_type": "code",
      "source": [
        "x=0\n",
        "for a in range(1,6):\n",
        "  x=x+a\n",
        "  print(a,x)\n",
        "  "
      ],
      "metadata": {
        "colab": {
          "base_uri": "https://localhost:8080/"
        },
        "id": "3MUOCeot5NqD",
        "outputId": "3e824088-bf9b-4f72-e4d7-8730bdb770e1"
      },
      "execution_count": null,
      "outputs": [
        {
          "output_type": "stream",
          "name": "stdout",
          "text": [
            "1 1\n",
            "2 3\n",
            "3 6\n",
            "4 10\n",
            "5 15\n"
          ]
        }
      ]
    },
    {
      "cell_type": "code",
      "source": [
        "x=(int(input(\"Enter A Number \")))\n",
        "if x<0:\n",
        "  print(\"absolut no is\",x*-1)\n",
        "elif x>0:\n",
        "  print(\"absolut no is\",x*1)"
      ],
      "metadata": {
        "id": "nEEFhiI29GwG",
        "colab": {
          "base_uri": "https://localhost:8080/"
        },
        "outputId": "084e7c2f-5c1d-42c2-9695-13b39746a42a"
      },
      "execution_count": null,
      "outputs": [
        {
          "output_type": "stream",
          "name": "stdout",
          "text": [
            "Enter A Number -1564969\n",
            "absolut no is 1564969\n"
          ]
        }
      ]
    },
    {
      "cell_type": "code",
      "source": [
        "marks=int(input(\"Enter marks \"))\n",
        "if marks <25:\n",
        "  print(\"f\")\n",
        "elif marks>25 and marks<40:\n",
        "  print(\"e\")\n",
        "elif marks>40 and marks<50:\n",
        "  print(\"d\")\n",
        "elif marks>50 and marks<60:\n",
        "  print(\"c\")\n",
        "elif marks>60 and marks<80:\n",
        "  print(\"b\")\n",
        "else:\n",
        "  print(\"a\")"
      ],
      "metadata": {
        "colab": {
          "base_uri": "https://localhost:8080/"
        },
        "id": "wkV1_TCIjJ_W",
        "outputId": "dc17b52e-8f34-4bba-8f93-561a4c4d3192"
      },
      "execution_count": null,
      "outputs": [
        {
          "output_type": "stream",
          "name": "stdout",
          "text": [
            "Enter marks 80\n",
            "a\n"
          ]
        }
      ]
    },
    {
      "cell_type": "code",
      "source": [
        "x=(int(input(\"No of class held \")))\n",
        "y=(int(input(\"No of class attended \")))\n",
        "if y/x*100<75:\n",
        "  print(\"Not eligible for xams\")\n",
        "else :\n",
        "  print(\"Eligible for xams\")"
      ],
      "metadata": {
        "colab": {
          "base_uri": "https://localhost:8080/"
        },
        "id": "JPLlYReEnb49",
        "outputId": "ed374c26-f244-4977-bd9c-e450b7cac9dc"
      },
      "execution_count": null,
      "outputs": [
        {
          "output_type": "stream",
          "name": "stdout",
          "text": [
            "No of class held 500\n",
            "No of class attended 100\n",
            "Not eligible for xams\n"
          ]
        }
      ]
    },
    {
      "cell_type": "code",
      "source": [
        " print(' 1. Addition \\n 2. Subtraction \\n 3. Multiplication \\n 4. Division \\n 5. Modulus \\n 6. Floor Division \\n 7. Exponent')\n",
        "n=int(input('Enter the operaton to be performed '))\n",
        "a=int(input('Enter the first number '))\n",
        "b=int(input('Enter the second number '))\n",
        "if n==1:\n",
        "  add=a+b\n",
        "  print('Addition:',add)\n",
        "elif n==2:\n",
        "  sub=a-b\n",
        "  print('Subtraction:',sub)\n",
        "elif n==3:\n",
        "  mul=a*b\n",
        "  print('Multiplication:',mul)\n",
        "elif n==4:\n",
        "  div=a/b\n",
        "  print('Division:',div)\n",
        "elif n==5:\n",
        "  mod=a%b\n",
        "  print('Modulus:',mod)\n",
        "elif n==6:\n",
        "  flr=a//b\n",
        "  print('Floor Division:',flr)\n",
        "elif n==7:\n",
        "  exp=a**b\n",
        "  print('Exponent:',exp)"
      ],
      "metadata": {
        "colab": {
          "base_uri": "https://localhost:8080/"
        },
        "id": "872OkIHko6Ai",
        "outputId": "6148f03b-1739-4a9e-f0ff-ebd3e70de8a2"
      },
      "execution_count": null,
      "outputs": [
        {
          "output_type": "stream",
          "name": "stdout",
          "text": [
            " 1. Addition \n",
            " 2. Subtraction \n",
            " 3. Multiplication \n",
            " 4. Division \n",
            " 5. Modulus \n",
            " 6. Floor Division \n",
            " 7. Exponent\n",
            "Enter the operaton to be performed 6\n",
            "Enter the first number 10\n",
            "Enter the second number 3\n",
            "Floor Division: 3\n"
          ]
        }
      ]
    },
    {
      "cell_type": "code",
      "source": [
        "num=int(input(\"Enter a number to display the correspnding multiplication table \"))\n",
        "for i in range(1,11):\n",
        "  print(\"i*\",num+i-1,\"=\" ,i*num)\n",
        "  "
      ],
      "metadata": {
        "id": "M4MviKJWzjJB",
        "colab": {
          "base_uri": "https://localhost:8080/"
        },
        "outputId": "b6fb0bd8-3e06-4380-c327-6d720547affe"
      },
      "execution_count": null,
      "outputs": [
        {
          "output_type": "stream",
          "name": "stdout",
          "text": [
            "Enter a number to display the correspnding multiplication table 1\n",
            "i* 1 = 1\n",
            "i* 2 = 2\n",
            "i* 3 = 3\n",
            "i* 4 = 4\n",
            "i* 5 = 5\n",
            "i* 6 = 6\n",
            "i* 7 = 7\n",
            "i* 8 = 8\n",
            "i* 9 = 9\n",
            "i* 10 = 10\n"
          ]
        }
      ]
    },
    {
      "cell_type": "code",
      "source": [
        "x=input(\"Any Number \")\n",
        "for i in x:\n",
        "  print(len(x))\n",
        "  break"
      ],
      "metadata": {
        "colab": {
          "base_uri": "https://localhost:8080/"
        },
        "id": "BPOZsJdJsMgd",
        "outputId": "ecf4a210-dbff-4d09-834b-963e443e7341"
      },
      "execution_count": null,
      "outputs": [
        {
          "output_type": "stream",
          "name": "stdout",
          "text": [
            "Any Number 26\n",
            "2\n"
          ]
        }
      ]
    },
    {
      "cell_type": "code",
      "source": [
        "num=int(input(\"Entr number \"))\n",
        "i=1\n",
        "while(i<=10):\n",
        "  print(i*num)\n",
        "  i=i+1"
      ],
      "metadata": {
        "colab": {
          "base_uri": "https://localhost:8080/"
        },
        "id": "W5-AOnFRxI6C",
        "outputId": "3b9db4fe-2433-49a8-d649-555fef6ff16a"
      },
      "execution_count": null,
      "outputs": [
        {
          "output_type": "stream",
          "name": "stdout",
          "text": [
            "Entr number 20\n",
            "20\n",
            "40\n",
            "60\n",
            "80\n",
            "100\n",
            "120\n",
            "140\n",
            "160\n",
            "180\n",
            "200\n"
          ]
        }
      ]
    },
    {
      "cell_type": "code",
      "source": [
        "x=input(\"Enter the Number \")\n",
        "d=0\n",
        "for i in x:\n",
        "  #print(i)\n",
        "  d=d+1\n",
        "print(d)"
      ],
      "metadata": {
        "colab": {
          "base_uri": "https://localhost:8080/"
        },
        "id": "VJr2Thg61m6a",
        "outputId": "1035bbbe-54df-4e7b-8d28-98f7bd6c4c71"
      },
      "execution_count": null,
      "outputs": [
        {
          "output_type": "stream",
          "name": "stdout",
          "text": [
            "Enter the Number 789\n",
            "3\n"
          ]
        }
      ]
    },
    {
      "cell_type": "code",
      "source": [
        "x=input('Enter a string ')\n",
        "a=\"\"\n",
        "for i in x:\n",
        "  a=i+a\n",
        "print(a)\n",
        "if x==a:\n",
        "  print('TRUE')\n",
        "else:\n",
        "  print('FALSE ')\n",
        "    \n"
      ],
      "metadata": {
        "colab": {
          "base_uri": "https://localhost:8080/"
        },
        "id": "qbDR10-u4IZy",
        "outputId": "d8ea09a5-cdbf-4674-e44a-2c798fb5333e"
      },
      "execution_count": null,
      "outputs": [
        {
          "output_type": "stream",
          "name": "stdout",
          "text": [
            "Enter a string amma\n",
            "amma\n",
            "TRUE\n"
          ]
        }
      ]
    },
    {
      "cell_type": "code",
      "source": [],
      "metadata": {
        "id": "vzQp3YZr-S5Z"
      },
      "execution_count": null,
      "outputs": []
    },
    {
      "cell_type": "code",
      "source": [],
      "metadata": {
        "id": "a5AIQqdJAG3a"
      },
      "execution_count": null,
      "outputs": []
    }
  ]
}